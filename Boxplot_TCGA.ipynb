{
 "cells": [
  {
   "cell_type": "code",
   "execution_count": 1,
   "metadata": {
    "pycharm": {
     "name": "#%%\n"
    }
   },
   "outputs": [
    {
     "name": "stdout",
     "output_type": "stream",
     "text": [
      "Start...\n",
      "(59955, 101)\n",
      "Done!\n"
     ]
    }
   ],
   "source": [
    "# Ruifeng Hu\n",
    "## 08-30-2019\n",
    "## SBMI\n",
    "\n",
    "import pandas as pd\n",
    "import numpy as np\n",
    "import matplotlib.pyplot as plt\n",
    "import seaborn as sns\n",
    "sns.set(style=\"ticks\", palette=\"bright\")\n",
    "%matplotlib inline\n",
    "\n",
    "from scipy.stats import wilcoxon\n",
    "\n",
    "print(\"Start...\")\n",
    "gene_list = {'HNRNPD':\"ENSG00000138668.18_3\",'HNRNPUL1':\"ENSG00000105323.16_2\",'CHERP':\"ENSG00000085872.14_3\",\n",
    "             'HNRNPM':\"ENSG00000099783.11_3\",'SRSF3':\"ENSG00000112081.16_2\",'PRPF38A':\"ENSG00000134748.12_2\",\n",
    "             'RBMX':\"ENSG00000147274.14_2\",'SF3A2':\"ENSG00000104897.9_4\",'SNRPA':\"ENSG00000077312.8_3\",\n",
    "             'HNRNPA0':\"ENSG00000177733.6_3\",'HNRNPF':\"ENSG00000169813.16_3\"}\n",
    "\n",
    "cancer_type = \"TARGET\"\n",
    "\n",
    "RNAseq = pd.read_csv(cancer_type+\"\\\\rnaseq_TPM.csv\", header=0, index_col=0, sep=\",\")\n",
    "RNAseq=RNAseq.apply(lambda x: np.log2(x+1))\n",
    "print(RNAseq.shape)\n",
    "\n",
    "samples_normal = RNAseq.loc[:,RNAseq.columns.str.endswith(\"-11\")]\n",
    "samples_tumor = RNAseq\n",
    "\n",
    "print(\"Done!\")"
   ]
  },
  {
   "cell_type": "code",
   "execution_count": 5,
   "metadata": {
    "pycharm": {
     "name": "#%%\n"
    }
   },
   "outputs": [
    {
     "name": "stdout",
     "output_type": "stream",
     "text": [
      "50 50\n"
     ]
    }
   ],
   "source": [
    "###### RB1 cut-off\n",
    "gene_x={\"RB1\":\"ENSG00000139687.13_2\",\"E2F3\":\"ENSG00000112242.14_3\"}\n",
    "cutoff_gene = \"RB1\"\n",
    "\n",
    "samples_x = samples_tumor.loc[[gene_x[cutoff_gene]], :]\n",
    "samples_x.sort_values(by = gene_x[cutoff_gene], inplace = True, axis = 1)\n",
    "\n",
    "samples_size = samples_x.shape[1]\n",
    "\n",
    "percent = 0.5\n",
    "low_size = int(samples_size * percent)\n",
    "low_samples = samples_x.columns[0 : low_size]\n",
    "high_samples =  samples_x.columns[(samples_size - low_size) : samples_size]\n",
    "\n",
    "print(len(low_samples),len(high_samples))"
   ]
  },
  {
   "cell_type": "code",
   "execution_count": 6,
   "metadata": {
    "pycharm": {
     "name": "#%%\n"
    }
   },
   "outputs": [
    {
     "name": "stdout",
     "output_type": "stream",
     "text": [
      "HNRNPD\n",
      "HNRNPUL1\n",
      "CHERP\n",
      "HNRNPM\n",
      "SRSF3\n",
      "PRPF38A\n",
      "RBMX\n",
      "SF3A2\n",
      "SNRPA\n",
      "HNRNPA0\n",
      "HNRNPF\n"
     ]
    }
   ],
   "source": [
    "d = {'gene': [], 'case_type': [], 'p': [], 'expr':[]}\n",
    "df = pd.DataFrame(data=d)\n",
    "fout = open(cancer_type+\"_\"+cutoff_gene+\"_50_table.txt\",\"w\")\n",
    "for gene_i in gene_list:\n",
    "    print(gene_i)\n",
    "    gene_11_i =  gene_list[gene_i]\n",
    "    samples_gene_low =samples_tumor.loc[gene_11_i,low_samples].values\n",
    "    samples_gene_high = samples_tumor.loc[gene_11_i,high_samples].values\n",
    "\n",
    "    total_n = len(samples_gene_low) + len(samples_gene_high)\n",
    "    \n",
    "    case_type = [cutoff_gene+'_low'] * len(samples_gene_low) + [cutoff_gene+'_high'] * len(samples_gene_high)  \n",
    "    z_statistic, p_value  = wilcoxon( samples_gene_low, samples_gene_high)\n",
    "    p = [p_value] * total_n\n",
    "    if p_value < 0.01:\n",
    "        gene = [gene_i+\"**\"] * total_n\n",
    "    elif p_value < 0.05:\n",
    "        gene = [gene_i+\"*\"] * total_n\n",
    "    else:\n",
    "        gene = [gene_i] * total_n\n",
    "        \n",
    "    expression = list(np.append(samples_gene_low,samples_gene_high))\n",
    "    d = {'gene': gene, 'case_type': case_type, 'p': p, 'expr':expression}\n",
    "    sub_df = pd.DataFrame(data = d)\n",
    "    df = df.append(sub_df, ignore_index=True)\n",
    "    fout.write(gene_i + \"\\t\" + str(p_value) + \"\\n\")\n",
    "fout.close()\n",
    "    "
   ]
  },
  {
   "cell_type": "code",
   "execution_count": 7,
   "metadata": {
    "scrolled": false,
    "pycharm": {
     "name": "#%%\n"
    }
   },
   "outputs": [
    {
     "data": {
      "image/png": "[encoded data removed]",
      "text/plain": [
       "<Figure size 864x432 with 1 Axes>"
      ]
     },
     "metadata": {
      "needs_background": "light"
     },
     "output_type": "display_data"
    }
   ],
   "source": [
    "# Draw a nested boxplot to show bills by day and time\n",
    "f, ax = plt.subplots(figsize=(12, 6))\n",
    "sns.boxplot(x=\"gene\", y=\"expr\",\n",
    "            hue=\"case_type\",palette= [\"#A3CCDE\", \"#F58C30\"],\n",
    "            data=df,)\n",
    "sns.despine(trim=True)\n",
    "\n",
    "ax.set(ylabel=\"Expression (log(TPM+1))\")\n",
    "ax.set(xlabel=\"Genes\")\n",
    "ax.set(title = 'Gene expression in TCGA-' + cancer_type)\n",
    "ax.legend(title=\"\",bbox_to_anchor=(1, 0.5), frameon=False)\n",
    "\n",
    "# for i in range(0,2*len(gene_list),2):    \n",
    "#     # Select which box you want to change    \n",
    "#     mybox = ax.artists[i]\n",
    "#     # Change the appearance of that box\n",
    "#     mybox.set_facecolor('#A3CCDE')\n",
    "    \n",
    "#     mybox = ax.artists[i+1]\n",
    "#     # Change the appearance of that box\n",
    "#     mybox.set_facecolor(\"#F58C30\")\n",
    "\n",
    "f.savefig('Gene expression in ' + cancer_type + \"_\"+cutoff_gene+\"_50.pdf\") \n"
   ]
  },
  {
   "cell_type": "code",
   "execution_count": 168,
   "metadata": {
    "pycharm": {
     "name": "#%%\n"
    }
   },
   "outputs": [
    {
     "data": {
      "text/plain": [
       "11.0"
      ]
     },
     "execution_count": 168,
     "metadata": {},
     "output_type": "execute_result"
    }
   ],
   "source": [
    "1694 / 154\n"
   ]
  },
  {
   "cell_type": "code",
   "execution_count": null,
   "metadata": {
    "pycharm": {
     "name": "#%%\n"
    }
   },
   "outputs": [],
   "source": []
  }
 ],
 "metadata": {
  "kernelspec": {
   "display_name": "Python 3",
   "language": "python",
   "name": "python3"
  },
  "language_info": {
   "codemirror_mode": {
    "name": "ipython",
    "version": 3
   },
   "file_extension": ".py",
   "mimetype": "text/x-python",
   "name": "python",
   "nbconvert_exporter": "python",
   "pygments_lexer": "ipython3",
   "version": "3.8.6"
  }
 },
 "nbformat": 4,
 "nbformat_minor": 2
}